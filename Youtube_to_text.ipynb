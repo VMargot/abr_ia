{
 "cells": [
  {
   "cell_type": "code",
   "execution_count": 1,
   "id": "2f0e482b-6fe3-4328-a018-62d02d67d35e",
   "metadata": {},
   "outputs": [],
   "source": [
    "from pytube import YouTube\n",
    "from moviepy.editor import VideoFileClip\n",
    "import speech_recognition as sr"
   ]
  },
  {
   "cell_type": "code",
   "execution_count": 2,
   "id": "4aa0a9ef",
   "metadata": {},
   "outputs": [],
   "source": [
    "video_url = 'https://www.youtube.com/watch?v=1tZiw9KR6Jk'\n",
    "main_path = 'C:/Users/VincentMARGOT/VSCProjects/abr_ai/'"
   ]
  },
  {
   "cell_type": "code",
   "execution_count": 7,
   "id": "42757125",
   "metadata": {},
   "outputs": [],
   "source": [
    "def download_youtube_video(url, output_path='video.mp4'):\n",
    "    yt = YouTube(url)\n",
    "    stream = yt.streams.filter().first()\n",
    "    stream.download(filename=output_path)\n",
    "    return output_path\n",
    "\n",
    "def extract_audio(video_path, output_path='audio.wav'):\n",
    "    video = VideoFileClip(video_path)\n",
    "    audio = video.audio\n",
    "    audio.write_audiofile(output_path, verbose=False, logger=None)\n",
    "    return output_path\n",
    "\n",
    "def transcribe_audio(audio_path, output_path='script.txt'):\n",
    "    recognizer = sr.Recognizer()\n",
    "    with sr.AudioFile(audio_path) as source:\n",
    "        audio = recognizer.record(source)\n",
    "    try:\n",
    "        text = recognizer.recognize_google(audio, language=\"fr-FR\")\n",
    "        with open(output_path, 'w', encoding='utf-8') as f:\n",
    "            f.write(text)\n",
    "    except sr.UnknownValueError:\n",
    "        return \"Google Speech Recognition could not understand audio\"\n",
    "    except sr.RequestError as e:\n",
    "        return f\"Could not request results from Google Speech Recognition service; {e}\""
   ]
  },
  {
   "cell_type": "code",
   "execution_count": 8,
   "id": "840022f1",
   "metadata": {},
   "outputs": [
    {
     "name": "stdout",
     "output_type": "stream",
     "text": [
      "\u001b[1;31m==> \u001b[1;39mIt's over! \u001b[1;31m<==\n"
     ]
    }
   ],
   "source": [
    "# Usage\n",
    "video_path = download_youtube_video(video_url)\n",
    "audio_path = extract_audio(video_path)\n",
    "text = transcribe_audio(audio_path)\n",
    "print(\"\\033[1;31m==>\", \"\\033[1;39mIt's over!\", \"\\033[1;31m<==\")"
   ]
  },
  {
   "cell_type": "code",
   "execution_count": null,
   "id": "09fb5dd3",
   "metadata": {},
   "outputs": [],
   "source": []
  }
 ],
 "metadata": {
  "kernelspec": {
   "display_name": "venv",
   "language": "python",
   "name": "python3"
  },
  "language_info": {
   "codemirror_mode": {
    "name": "ipython",
    "version": 3
   },
   "file_extension": ".py",
   "mimetype": "text/x-python",
   "name": "python",
   "nbconvert_exporter": "python",
   "pygments_lexer": "ipython3",
   "version": "3.12.1"
  }
 },
 "nbformat": 4,
 "nbformat_minor": 5
}
